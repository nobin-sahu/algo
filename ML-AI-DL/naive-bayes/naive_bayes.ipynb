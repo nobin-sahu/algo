{
  "nbformat": 4,
  "nbformat_minor": 0,
  "metadata": {
    "colab": {
      "provenance": []
    },
    "kernelspec": {
      "name": "python3",
      "display_name": "Python 3"
    },
    "language_info": {
      "name": "python"
    }
  },
  "cells": [
    {
      "cell_type": "code",
      "execution_count": null,
      "metadata": {
        "colab": {
          "base_uri": "https://localhost:8080/",
          "height": 73
        },
        "id": "ZgpcbJh7V07I",
        "outputId": "5298f73c-a90c-4c02-8d65-85e748092696"
      },
      "outputs": [
        {
          "output_type": "display_data",
          "data": {
            "text/plain": [
              "<IPython.core.display.HTML object>"
            ],
            "text/html": [
              "\n",
              "     <input type=\"file\" id=\"files-369f5b3e-0768-44e9-98a7-a6beee73d685\" name=\"files[]\" multiple disabled\n",
              "        style=\"border:none\" />\n",
              "     <output id=\"result-369f5b3e-0768-44e9-98a7-a6beee73d685\">\n",
              "      Upload widget is only available when the cell has been executed in the\n",
              "      current browser session. Please rerun this cell to enable.\n",
              "      </output>\n",
              "      <script>// Copyright 2017 Google LLC\n",
              "//\n",
              "// Licensed under the Apache License, Version 2.0 (the \"License\");\n",
              "// you may not use this file except in compliance with the License.\n",
              "// You may obtain a copy of the License at\n",
              "//\n",
              "//      http://www.apache.org/licenses/LICENSE-2.0\n",
              "//\n",
              "// Unless required by applicable law or agreed to in writing, software\n",
              "// distributed under the License is distributed on an \"AS IS\" BASIS,\n",
              "// WITHOUT WARRANTIES OR CONDITIONS OF ANY KIND, either express or implied.\n",
              "// See the License for the specific language governing permissions and\n",
              "// limitations under the License.\n",
              "\n",
              "/**\n",
              " * @fileoverview Helpers for google.colab Python module.\n",
              " */\n",
              "(function(scope) {\n",
              "function span(text, styleAttributes = {}) {\n",
              "  const element = document.createElement('span');\n",
              "  element.textContent = text;\n",
              "  for (const key of Object.keys(styleAttributes)) {\n",
              "    element.style[key] = styleAttributes[key];\n",
              "  }\n",
              "  return element;\n",
              "}\n",
              "\n",
              "// Max number of bytes which will be uploaded at a time.\n",
              "const MAX_PAYLOAD_SIZE = 100 * 1024;\n",
              "\n",
              "function _uploadFiles(inputId, outputId) {\n",
              "  const steps = uploadFilesStep(inputId, outputId);\n",
              "  const outputElement = document.getElementById(outputId);\n",
              "  // Cache steps on the outputElement to make it available for the next call\n",
              "  // to uploadFilesContinue from Python.\n",
              "  outputElement.steps = steps;\n",
              "\n",
              "  return _uploadFilesContinue(outputId);\n",
              "}\n",
              "\n",
              "// This is roughly an async generator (not supported in the browser yet),\n",
              "// where there are multiple asynchronous steps and the Python side is going\n",
              "// to poll for completion of each step.\n",
              "// This uses a Promise to block the python side on completion of each step,\n",
              "// then passes the result of the previous step as the input to the next step.\n",
              "function _uploadFilesContinue(outputId) {\n",
              "  const outputElement = document.getElementById(outputId);\n",
              "  const steps = outputElement.steps;\n",
              "\n",
              "  const next = steps.next(outputElement.lastPromiseValue);\n",
              "  return Promise.resolve(next.value.promise).then((value) => {\n",
              "    // Cache the last promise value to make it available to the next\n",
              "    // step of the generator.\n",
              "    outputElement.lastPromiseValue = value;\n",
              "    return next.value.response;\n",
              "  });\n",
              "}\n",
              "\n",
              "/**\n",
              " * Generator function which is called between each async step of the upload\n",
              " * process.\n",
              " * @param {string} inputId Element ID of the input file picker element.\n",
              " * @param {string} outputId Element ID of the output display.\n",
              " * @return {!Iterable<!Object>} Iterable of next steps.\n",
              " */\n",
              "function* uploadFilesStep(inputId, outputId) {\n",
              "  const inputElement = document.getElementById(inputId);\n",
              "  inputElement.disabled = false;\n",
              "\n",
              "  const outputElement = document.getElementById(outputId);\n",
              "  outputElement.innerHTML = '';\n",
              "\n",
              "  const pickedPromise = new Promise((resolve) => {\n",
              "    inputElement.addEventListener('change', (e) => {\n",
              "      resolve(e.target.files);\n",
              "    });\n",
              "  });\n",
              "\n",
              "  const cancel = document.createElement('button');\n",
              "  inputElement.parentElement.appendChild(cancel);\n",
              "  cancel.textContent = 'Cancel upload';\n",
              "  const cancelPromise = new Promise((resolve) => {\n",
              "    cancel.onclick = () => {\n",
              "      resolve(null);\n",
              "    };\n",
              "  });\n",
              "\n",
              "  // Wait for the user to pick the files.\n",
              "  const files = yield {\n",
              "    promise: Promise.race([pickedPromise, cancelPromise]),\n",
              "    response: {\n",
              "      action: 'starting',\n",
              "    }\n",
              "  };\n",
              "\n",
              "  cancel.remove();\n",
              "\n",
              "  // Disable the input element since further picks are not allowed.\n",
              "  inputElement.disabled = true;\n",
              "\n",
              "  if (!files) {\n",
              "    return {\n",
              "      response: {\n",
              "        action: 'complete',\n",
              "      }\n",
              "    };\n",
              "  }\n",
              "\n",
              "  for (const file of files) {\n",
              "    const li = document.createElement('li');\n",
              "    li.append(span(file.name, {fontWeight: 'bold'}));\n",
              "    li.append(span(\n",
              "        `(${file.type || 'n/a'}) - ${file.size} bytes, ` +\n",
              "        `last modified: ${\n",
              "            file.lastModifiedDate ? file.lastModifiedDate.toLocaleDateString() :\n",
              "                                    'n/a'} - `));\n",
              "    const percent = span('0% done');\n",
              "    li.appendChild(percent);\n",
              "\n",
              "    outputElement.appendChild(li);\n",
              "\n",
              "    const fileDataPromise = new Promise((resolve) => {\n",
              "      const reader = new FileReader();\n",
              "      reader.onload = (e) => {\n",
              "        resolve(e.target.result);\n",
              "      };\n",
              "      reader.readAsArrayBuffer(file);\n",
              "    });\n",
              "    // Wait for the data to be ready.\n",
              "    let fileData = yield {\n",
              "      promise: fileDataPromise,\n",
              "      response: {\n",
              "        action: 'continue',\n",
              "      }\n",
              "    };\n",
              "\n",
              "    // Use a chunked sending to avoid message size limits. See b/62115660.\n",
              "    let position = 0;\n",
              "    do {\n",
              "      const length = Math.min(fileData.byteLength - position, MAX_PAYLOAD_SIZE);\n",
              "      const chunk = new Uint8Array(fileData, position, length);\n",
              "      position += length;\n",
              "\n",
              "      const base64 = btoa(String.fromCharCode.apply(null, chunk));\n",
              "      yield {\n",
              "        response: {\n",
              "          action: 'append',\n",
              "          file: file.name,\n",
              "          data: base64,\n",
              "        },\n",
              "      };\n",
              "\n",
              "      let percentDone = fileData.byteLength === 0 ?\n",
              "          100 :\n",
              "          Math.round((position / fileData.byteLength) * 100);\n",
              "      percent.textContent = `${percentDone}% done`;\n",
              "\n",
              "    } while (position < fileData.byteLength);\n",
              "  }\n",
              "\n",
              "  // All done.\n",
              "  yield {\n",
              "    response: {\n",
              "      action: 'complete',\n",
              "    }\n",
              "  };\n",
              "}\n",
              "\n",
              "scope.google = scope.google || {};\n",
              "scope.google.colab = scope.google.colab || {};\n",
              "scope.google.colab._files = {\n",
              "  _uploadFiles,\n",
              "  _uploadFilesContinue,\n",
              "};\n",
              "})(self);\n",
              "</script> "
            ]
          },
          "metadata": {}
        },
        {
          "output_type": "stream",
          "name": "stdout",
          "text": [
            "Saving User_Data.csv to User_Data.csv\n"
          ]
        }
      ],
      "source": [
        "from google.colab import files\n",
        "uploaded = files.upload()"
      ]
    },
    {
      "cell_type": "code",
      "source": [
        "import pandas as pd\n",
        "import numpy as np"
      ],
      "metadata": {
        "id": "zg3jEG-zV3EX"
      },
      "execution_count": null,
      "outputs": []
    },
    {
      "cell_type": "code",
      "source": [
        "data = pd.read_csv('User_Data.csv')"
      ],
      "metadata": {
        "id": "lmdELzzaWTn3"
      },
      "execution_count": null,
      "outputs": []
    },
    {
      "cell_type": "code",
      "source": [
        "data.head()"
      ],
      "metadata": {
        "id": "lDbTgE1bWVKm"
      },
      "execution_count": null,
      "outputs": []
    },
    {
      "cell_type": "code",
      "source": [
        "data.columns"
      ],
      "metadata": {
        "colab": {
          "base_uri": "https://localhost:8080/"
        },
        "id": "kiHDPagZWWIG",
        "outputId": "419b0d85-fddb-413e-ab56-76b7b49fcc71"
      },
      "execution_count": null,
      "outputs": [
        {
          "output_type": "execute_result",
          "data": {
            "text/plain": [
              "Index(['User ID', 'Gender', 'Age', 'EstimatedSalary', 'Purchased'], dtype='object')"
            ]
          },
          "metadata": {},
          "execution_count": 6
        }
      ]
    },
    {
      "cell_type": "code",
      "source": [
        "dataset = data[['Gender', 'Age', 'EstimatedSalary', 'Purchased']]"
      ],
      "metadata": {
        "id": "VMaHIbjFWcm_"
      },
      "execution_count": null,
      "outputs": []
    },
    {
      "cell_type": "code",
      "source": [
        "dataset"
      ],
      "metadata": {
        "id": "i6Q2CnuyWjke"
      },
      "execution_count": null,
      "outputs": []
    },
    {
      "cell_type": "code",
      "source": [
        "dataset.columns"
      ],
      "metadata": {
        "id": "xof3s_87Wvbe"
      },
      "execution_count": null,
      "outputs": []
    },
    {
      "cell_type": "code",
      "source": [
        "dataset_details = {}"
      ],
      "metadata": {
        "id": "3AKyOLHDWx2O"
      },
      "execution_count": null,
      "outputs": []
    },
    {
      "cell_type": "code",
      "source": [
        "purchase_count = len(dataset['Purchased'] == 1)\n",
        "no_purchase_count = len(dataset['Purchased'] == 0)\n",
        "\n",
        "for attr in dataset.columns:\n",
        "  dataset_details[attr] = {}\n",
        "  unique_lst = pd.unique(dataset[attr])\n",
        "  total_count = len(dataset[attr])\n",
        "  attr_lst = dataset[attr].values\n",
        "  for a in unique_lst:\n",
        "    a_count = list(attr_lst).count(a)\n",
        "    df_1 = dataset[dataset[attr] == a]\n",
        "    df_2 = df_1[dataset['Purchased'] == 0]\n",
        "    df_3 = df_1[dataset['Purchased'] == 1]\n",
        "    if type(a) != 'str':\n",
        "      a = str(a)\n",
        "    dataset_details[attr][a] = a_count / len(dataset['Purchased'])\n",
        "    dataset_details[attr][a + \"/1\"] = len(df_3) / purchase_count\n",
        "    dataset_details[attr][a + \"/0\"] = len(df_2)/ no_purchase_count"
      ],
      "metadata": {
        "colab": {
          "base_uri": "https://localhost:8080/"
        },
        "id": "DWCjevJ2W3JW",
        "outputId": "0068c18f-c520-402c-9cf1-ecdbac99c1f5"
      },
      "execution_count": null,
      "outputs": [
        {
          "output_type": "stream",
          "name": "stderr",
          "text": [
            "<ipython-input-104-8ebb2ea77043>:12: UserWarning: Boolean Series key will be reindexed to match DataFrame index.\n",
            "  df_2 = df_1[dataset['Purchased'] == 0]\n",
            "<ipython-input-104-8ebb2ea77043>:13: UserWarning: Boolean Series key will be reindexed to match DataFrame index.\n",
            "  df_3 = df_1[dataset['Purchased'] == 1]\n"
          ]
        }
      ]
    },
    {
      "cell_type": "code",
      "source": [
        "def naiveBayes(data_lst, attr_lst, dataset_details, outcome_lst): \n",
        "  result = []\n",
        "  for val in data_lst:\n",
        "    ## for no  \n",
        "    prob = 0 \n",
        "    res = 0\n",
        "    temp_sum = dataset_details[\"Purchased\"]['0']\n",
        "    for i, j in enumerate(attr_lst):\n",
        "      temp_sum *= dataset_details[j][str(val[i]) + \"/0\"]\n",
        "    res = 0 \n",
        "    prob = temp_sum \n",
        "    temp_sum_1 = dataset_details[\"Purchased\"]['0']\n",
        "    for i, j in enumerate(attr_lst):\n",
        "      temp_sum_1 *= dataset_details[j][str(val[i]) + \"/1\"]\n",
        "    if temp_sum_1 > prob: \n",
        "      res =  1 \n",
        "      prob = temp_sum_1\n",
        "    result.append({'res' : res, 'prob' : prob / (temp_sum + temp_sum_1)})\n",
        "  return result\n"
      ],
      "metadata": {
        "id": "nZIHFazoW5_-"
      },
      "execution_count": null,
      "outputs": []
    },
    {
      "cell_type": "code",
      "source": [
        "columndata = list(dataset.columns[:-1])\n",
        "outcome_lst = 'Purchased'"
      ],
      "metadata": {
        "id": "z_ljX_M-W99Q"
      },
      "execution_count": null,
      "outputs": []
    },
    {
      "cell_type": "code",
      "source": [
        "dataset.iloc[200:210]"
      ],
      "metadata": {
        "colab": {
          "base_uri": "https://localhost:8080/",
          "height": 363
        },
        "id": "xnpsQ42UXB73",
        "outputId": "1c3615af-8ac7-4029-aa5f-6318c7dfbe3e"
      },
      "execution_count": null,
      "outputs": [
        {
          "output_type": "execute_result",
          "data": {
            "text/plain": [
              "     Gender  Age  EstimatedSalary  Purchased\n",
              "200    Male   35            39000          0\n",
              "201    Male   49            74000          0\n",
              "202  Female   39           134000          1\n",
              "203  Female   41            71000          0\n",
              "204  Female   58           101000          1\n",
              "205  Female   47            47000          0\n",
              "206  Female   55           130000          1\n",
              "207  Female   52           114000          0\n",
              "208  Female   40           142000          1\n",
              "209  Female   46            22000          0"
            ],
            "text/html": [
              "\n",
              "  <div id=\"df-7f9177bb-f3ba-447a-90bd-425dbbb82882\">\n",
              "    <div class=\"colab-df-container\">\n",
              "      <div>\n",
              "<style scoped>\n",
              "    .dataframe tbody tr th:only-of-type {\n",
              "        vertical-align: middle;\n",
              "    }\n",
              "\n",
              "    .dataframe tbody tr th {\n",
              "        vertical-align: top;\n",
              "    }\n",
              "\n",
              "    .dataframe thead th {\n",
              "        text-align: right;\n",
              "    }\n",
              "</style>\n",
              "<table border=\"1\" class=\"dataframe\">\n",
              "  <thead>\n",
              "    <tr style=\"text-align: right;\">\n",
              "      <th></th>\n",
              "      <th>Gender</th>\n",
              "      <th>Age</th>\n",
              "      <th>EstimatedSalary</th>\n",
              "      <th>Purchased</th>\n",
              "    </tr>\n",
              "  </thead>\n",
              "  <tbody>\n",
              "    <tr>\n",
              "      <th>200</th>\n",
              "      <td>Male</td>\n",
              "      <td>35</td>\n",
              "      <td>39000</td>\n",
              "      <td>0</td>\n",
              "    </tr>\n",
              "    <tr>\n",
              "      <th>201</th>\n",
              "      <td>Male</td>\n",
              "      <td>49</td>\n",
              "      <td>74000</td>\n",
              "      <td>0</td>\n",
              "    </tr>\n",
              "    <tr>\n",
              "      <th>202</th>\n",
              "      <td>Female</td>\n",
              "      <td>39</td>\n",
              "      <td>134000</td>\n",
              "      <td>1</td>\n",
              "    </tr>\n",
              "    <tr>\n",
              "      <th>203</th>\n",
              "      <td>Female</td>\n",
              "      <td>41</td>\n",
              "      <td>71000</td>\n",
              "      <td>0</td>\n",
              "    </tr>\n",
              "    <tr>\n",
              "      <th>204</th>\n",
              "      <td>Female</td>\n",
              "      <td>58</td>\n",
              "      <td>101000</td>\n",
              "      <td>1</td>\n",
              "    </tr>\n",
              "    <tr>\n",
              "      <th>205</th>\n",
              "      <td>Female</td>\n",
              "      <td>47</td>\n",
              "      <td>47000</td>\n",
              "      <td>0</td>\n",
              "    </tr>\n",
              "    <tr>\n",
              "      <th>206</th>\n",
              "      <td>Female</td>\n",
              "      <td>55</td>\n",
              "      <td>130000</td>\n",
              "      <td>1</td>\n",
              "    </tr>\n",
              "    <tr>\n",
              "      <th>207</th>\n",
              "      <td>Female</td>\n",
              "      <td>52</td>\n",
              "      <td>114000</td>\n",
              "      <td>0</td>\n",
              "    </tr>\n",
              "    <tr>\n",
              "      <th>208</th>\n",
              "      <td>Female</td>\n",
              "      <td>40</td>\n",
              "      <td>142000</td>\n",
              "      <td>1</td>\n",
              "    </tr>\n",
              "    <tr>\n",
              "      <th>209</th>\n",
              "      <td>Female</td>\n",
              "      <td>46</td>\n",
              "      <td>22000</td>\n",
              "      <td>0</td>\n",
              "    </tr>\n",
              "  </tbody>\n",
              "</table>\n",
              "</div>\n",
              "      <button class=\"colab-df-convert\" onclick=\"convertToInteractive('df-7f9177bb-f3ba-447a-90bd-425dbbb82882')\"\n",
              "              title=\"Convert this dataframe to an interactive table.\"\n",
              "              style=\"display:none;\">\n",
              "        \n",
              "  <svg xmlns=\"http://www.w3.org/2000/svg\" height=\"24px\"viewBox=\"0 0 24 24\"\n",
              "       width=\"24px\">\n",
              "    <path d=\"M0 0h24v24H0V0z\" fill=\"none\"/>\n",
              "    <path d=\"M18.56 5.44l.94 2.06.94-2.06 2.06-.94-2.06-.94-.94-2.06-.94 2.06-2.06.94zm-11 1L8.5 8.5l.94-2.06 2.06-.94-2.06-.94L8.5 2.5l-.94 2.06-2.06.94zm10 10l.94 2.06.94-2.06 2.06-.94-2.06-.94-.94-2.06-.94 2.06-2.06.94z\"/><path d=\"M17.41 7.96l-1.37-1.37c-.4-.4-.92-.59-1.43-.59-.52 0-1.04.2-1.43.59L10.3 9.45l-7.72 7.72c-.78.78-.78 2.05 0 2.83L4 21.41c.39.39.9.59 1.41.59.51 0 1.02-.2 1.41-.59l7.78-7.78 2.81-2.81c.8-.78.8-2.07 0-2.86zM5.41 20L4 18.59l7.72-7.72 1.47 1.35L5.41 20z\"/>\n",
              "  </svg>\n",
              "      </button>\n",
              "      \n",
              "  <style>\n",
              "    .colab-df-container {\n",
              "      display:flex;\n",
              "      flex-wrap:wrap;\n",
              "      gap: 12px;\n",
              "    }\n",
              "\n",
              "    .colab-df-convert {\n",
              "      background-color: #E8F0FE;\n",
              "      border: none;\n",
              "      border-radius: 50%;\n",
              "      cursor: pointer;\n",
              "      display: none;\n",
              "      fill: #1967D2;\n",
              "      height: 32px;\n",
              "      padding: 0 0 0 0;\n",
              "      width: 32px;\n",
              "    }\n",
              "\n",
              "    .colab-df-convert:hover {\n",
              "      background-color: #E2EBFA;\n",
              "      box-shadow: 0px 1px 2px rgba(60, 64, 67, 0.3), 0px 1px 3px 1px rgba(60, 64, 67, 0.15);\n",
              "      fill: #174EA6;\n",
              "    }\n",
              "\n",
              "    [theme=dark] .colab-df-convert {\n",
              "      background-color: #3B4455;\n",
              "      fill: #D2E3FC;\n",
              "    }\n",
              "\n",
              "    [theme=dark] .colab-df-convert:hover {\n",
              "      background-color: #434B5C;\n",
              "      box-shadow: 0px 1px 3px 1px rgba(0, 0, 0, 0.15);\n",
              "      filter: drop-shadow(0px 1px 2px rgba(0, 0, 0, 0.3));\n",
              "      fill: #FFFFFF;\n",
              "    }\n",
              "  </style>\n",
              "\n",
              "      <script>\n",
              "        const buttonEl =\n",
              "          document.querySelector('#df-7f9177bb-f3ba-447a-90bd-425dbbb82882 button.colab-df-convert');\n",
              "        buttonEl.style.display =\n",
              "          google.colab.kernel.accessAllowed ? 'block' : 'none';\n",
              "\n",
              "        async function convertToInteractive(key) {\n",
              "          const element = document.querySelector('#df-7f9177bb-f3ba-447a-90bd-425dbbb82882');\n",
              "          const dataTable =\n",
              "            await google.colab.kernel.invokeFunction('convertToInteractive',\n",
              "                                                     [key], {});\n",
              "          if (!dataTable) return;\n",
              "\n",
              "          const docLinkHtml = 'Like what you see? Visit the ' +\n",
              "            '<a target=\"_blank\" href=https://colab.research.google.com/notebooks/data_table.ipynb>data table notebook</a>'\n",
              "            + ' to learn more about interactive tables.';\n",
              "          element.innerHTML = '';\n",
              "          dataTable['output_type'] = 'display_data';\n",
              "          await google.colab.output.renderOutput(dataTable, element);\n",
              "          const docLink = document.createElement('div');\n",
              "          docLink.innerHTML = docLinkHtml;\n",
              "          element.appendChild(docLink);\n",
              "        }\n",
              "      </script>\n",
              "    </div>\n",
              "  </div>\n",
              "  "
            ]
          },
          "metadata": {},
          "execution_count": 99
        }
      ]
    },
    {
      "cell_type": "code",
      "source": [
        "input_data_set = dataset.iloc[200:210, :-1].values "
      ],
      "metadata": {
        "id": "nlW4GiPHXWTu"
      },
      "execution_count": null,
      "outputs": []
    },
    {
      "cell_type": "code",
      "source": [
        "result = naiveBayes(input_data_set, columndata, dataset_details, outcome_lst)\n",
        "for res in result:\n",
        "  print(res)"
      ],
      "metadata": {
        "colab": {
          "base_uri": "https://localhost:8080/"
        },
        "id": "X-k1DN8Kecj3",
        "outputId": "3bad1332-6acd-4f3f-f659-3e7899669f01"
      },
      "execution_count": null,
      "outputs": [
        {
          "output_type": "stream",
          "name": "stdout",
          "text": [
            "{'res': 0, 'prob': 0.9501008064516129}\n",
            "{'res': 0, 'prob': 0.5517826825127334}\n",
            "{'res': 1, 'prob': 0.5480427046263344}\n",
            "{'res': 0, 'prob': 0.9949729059215251}\n",
            "{'res': 1, 'prob': 1.0}\n",
            "{'res': 0, 'prob': 0.5237113402061856}\n",
            "{'res': 1, 'prob': 1.0}\n",
            "{'res': 0, 'prob': 1.0}\n",
            "{'res': 1, 'prob': 1.0}\n",
            "{'res': 0, 'prob': 0.6386188400938652}\n"
          ]
        }
      ]
    },
    {
      "cell_type": "code",
      "source": [
        "print(\"========================================= DataSet Details ===========================\")\n",
        "print(dataset_details)\n",
        "print(\"=====================================================================================\")"
      ],
      "metadata": {
        "colab": {
          "base_uri": "https://localhost:8080/"
        },
        "id": "ozxOQe8pejU_",
        "outputId": "c1b4c35b-e45e-4dc8-adb5-1d9e7f312467"
      },
      "execution_count": null,
      "outputs": [
        {
          "output_type": "stream",
          "name": "stdout",
          "text": [
            "========================================= DataSet Details ===========================\n",
            "{'Gender': {'Male': 0.49, 'Male/1': 0.165, 'Male/0': 0.325, 'Female': 0.51, 'Female/1': 0.1925, 'Female/0': 0.3175}, 'Age': {'19': 0.0175, '19/1': 0.0, '19/0': 0.0175, '35': 0.08, '35/1': 0.0075, '35/0': 0.0725, '26': 0.04, '26/1': 0.0, '26/0': 0.04, '27': 0.0325, '27/1': 0.005, '27/0': 0.0275, '32': 0.0225, '32/1': 0.0125, '32/0': 0.01, '25': 0.015, '25/1': 0.0, '25/0': 0.015, '20': 0.0175, '20/1': 0.0, '20/0': 0.0175, '18': 0.0125, '18/1': 0.0, '18/0': 0.0125, '29': 0.025, '29/1': 0.0025, '29/0': 0.0225, '47': 0.035, '47/1': 0.03, '47/0': 0.005, '45': 0.0175, '45/1': 0.015, '45/0': 0.0025, '46': 0.03, '46/1': 0.0175, '46/0': 0.0125, '48': 0.035, '48/1': 0.0325, '48/0': 0.0025, '49': 0.025, '49/1': 0.02, '49/0': 0.005, '31': 0.0275, '31/1': 0.0025, '31/0': 0.025, '21': 0.01, '21/1': 0.0, '21/0': 0.01, '28': 0.03, '28/1': 0.0025, '28/0': 0.0275, '33': 0.0225, '33/1': 0.0025, '33/0': 0.02, '30': 0.0275, '30/1': 0.005, '30/0': 0.0225, '23': 0.015, '23/1': 0.0, '23/0': 0.015, '24': 0.0225, '24/1': 0.0, '24/0': 0.0225, '22': 0.0125, '22/1': 0.0, '22/0': 0.0125, '59': 0.0175, '59/1': 0.0125, '59/0': 0.005, '34': 0.015, '34/1': 0.0025, '34/0': 0.0125, '39': 0.0375, '39/1': 0.015, '39/0': 0.0225, '38': 0.0325, '38/1': 0.0025, '38/0': 0.03, '37': 0.05, '37/1': 0.0175, '37/0': 0.0325, '42': 0.04, '42/1': 0.015, '42/0': 0.025, '40': 0.0375, '40/1': 0.0075, '40/0': 0.03, '36': 0.03, '36/1': 0.0125, '36/0': 0.0175, '41': 0.04, '41/1': 0.0025, '41/0': 0.0375, '58': 0.015, '58/1': 0.015, '58/0': 0.0, '55': 0.0075, '55/1': 0.0075, '55/0': 0.0, '52': 0.015, '52/1': 0.0125, '52/0': 0.0025, '60': 0.0175, '60/1': 0.0175, '60/0': 0.0, '56': 0.0075, '56/1': 0.0075, '56/0': 0.0, '53': 0.0125, '53/1': 0.0125, '53/0': 0.0, '50': 0.01, '50/1': 0.0075, '50/0': 0.0025, '51': 0.0075, '51/1': 0.005, '51/0': 0.0025, '57': 0.0125, '57/1': 0.0125, '57/0': 0.0, '44': 0.005, '44/1': 0.0025, '44/0': 0.0025, '43': 0.0075, '43/1': 0.005, '43/0': 0.0025, '54': 0.01, '54/1': 0.01, '54/0': 0.0}, 'EstimatedSalary': {'19000': 0.005, '19000/1': 0.0, '19000/0': 0.005, '20000': 0.0125, '20000/1': 0.005, '20000/0': 0.0075, '43000': 0.0175, '43000/1': 0.0, '43000/0': 0.0175, '57000': 0.015, '57000/1': 0.0, '57000/0': 0.015, '76000': 0.0075, '76000/1': 0.0025, '76000/0': 0.005, '58000': 0.0125, '58000/1': 0.0, '58000/0': 0.0125, '84000': 0.01, '84000/1': 0.0, '84000/0': 0.01, '150000': 0.005, '150000/1': 0.005, '150000/0': 0.0, '33000': 0.015, '33000/1': 0.0075, '33000/0': 0.0075, '65000': 0.015, '65000/1': 0.0, '65000/0': 0.015, '80000': 0.0275, '80000/1': 0.0025, '80000/0': 0.025, '52000': 0.015, '52000/1': 0.0, '52000/0': 0.015, '86000': 0.0125, '86000/1': 0.0025, '86000/0': 0.01, '18000': 0.01, '18000/1': 0.0, '18000/0': 0.01, '82000': 0.015, '82000/1': 0.0025, '82000/0': 0.0125, '25000': 0.01, '25000/1': 0.0025, '25000/0': 0.0075, '26000': 0.01, '26000/1': 0.0075, '26000/0': 0.0025, '28000': 0.015, '28000/1': 0.0075, '28000/0': 0.0075, '29000': 0.005, '29000/1': 0.005, '29000/0': 0.0, '22000': 0.0125, '22000/1': 0.005, '22000/0': 0.0075, '49000': 0.0075, '49000/1': 0.0025, '49000/0': 0.005, '41000': 0.0075, '41000/1': 0.005, '41000/0': 0.0025, '23000': 0.0175, '23000/1': 0.01, '23000/0': 0.0075, '30000': 0.01, '30000/1': 0.005, '30000/0': 0.005, '74000': 0.0175, '74000/1': 0.005, '74000/0': 0.0125, '137000': 0.005, '137000/1': 0.005, '137000/0': 0.0, '16000': 0.005, '16000/1': 0.0, '16000/0': 0.005, '44000': 0.01, '44000/1': 0.0, '44000/0': 0.01, '90000': 0.0125, '90000/1': 0.0075, '90000/0': 0.005, '27000': 0.0075, '27000/1': 0.0, '27000/0': 0.0075, '72000': 0.03, '72000/1': 0.0025, '72000/0': 0.0275, '31000': 0.005, '31000/1': 0.0, '31000/0': 0.005, '17000': 0.0075, '17000/1': 0.0, '17000/0': 0.0075, '51000': 0.01, '51000/1': 0.0025, '51000/0': 0.0075, '108000': 0.01, '108000/1': 0.0075, '108000/0': 0.0025, '15000': 0.01, '15000/1': 0.0, '15000/0': 0.01, '79000': 0.025, '79000/1': 0.005, '79000/0': 0.02, '54000': 0.01, '54000/1': 0.0, '54000/0': 0.01, '135000': 0.005, '135000/1': 0.005, '135000/0': 0.0, '89000': 0.015, '89000/1': 0.0025, '89000/0': 0.0125, '32000': 0.0125, '32000/1': 0.005, '32000/0': 0.0075, '83000': 0.01, '83000/1': 0.0025, '83000/0': 0.0075, '55000': 0.0175, '55000/1': 0.0, '55000/0': 0.0175, '48000': 0.0025, '48000/1': 0.0, '48000/0': 0.0025, '117000': 0.0075, '117000/1': 0.005, '117000/0': 0.0025, '87000': 0.01, '87000/1': 0.0025, '87000/0': 0.0075, '66000': 0.005, '66000/1': 0.0, '66000/0': 0.005, '120000': 0.0025, '120000/1': 0.0025, '120000/0': 0.0, '63000': 0.01, '63000/1': 0.0, '63000/0': 0.01, '68000': 0.0075, '68000/1': 0.0, '68000/0': 0.0075, '113000': 0.0075, '113000/1': 0.005, '113000/0': 0.0025, '112000': 0.0075, '112000/1': 0.005, '112000/0': 0.0025, '42000': 0.0125, '42000/1': 0.005, '42000/0': 0.0075, '88000': 0.0175, '88000/1': 0.01, '88000/0': 0.0075, '62000': 0.005, '62000/1': 0.0, '62000/0': 0.005, '118000': 0.0075, '118000/1': 0.005, '118000/0': 0.0025, '85000': 0.005, '85000/1': 0.0, '85000/0': 0.005, '81000': 0.005, '81000/1': 0.0, '81000/0': 0.005, '50000': 0.015, '50000/1': 0.0025, '50000/0': 0.0125, '116000': 0.0025, '116000/1': 0.0, '116000/0': 0.0025, '123000': 0.0025, '123000/1': 0.0025, '123000/0': 0.0, '73000': 0.0075, '73000/1': 0.0025, '73000/0': 0.005, '37000': 0.0025, '37000/1': 0.0, '37000/0': 0.0025, '59000': 0.02, '59000/1': 0.0, '59000/0': 0.02, '149000': 0.005, '149000/1': 0.005, '149000/0': 0.0, '21000': 0.005, '21000/1': 0.0025, '21000/0': 0.0025, '35000': 0.005, '35000/1': 0.0025, '35000/0': 0.0025, '71000': 0.0225, '71000/1': 0.0025, '71000/0': 0.02, '61000': 0.015, '61000/1': 0.0, '61000/0': 0.015, '75000': 0.0225, '75000/1': 0.0025, '75000/0': 0.02, '53000': 0.0075, '53000/1': 0.0, '53000/0': 0.0075, '107000': 0.0075, '107000/1': 0.0075, '107000/0': 0.0, '96000': 0.01, '96000/1': 0.0075, '96000/0': 0.0025, '45000': 0.005, '45000/1': 0.0025, '45000/0': 0.0025, '47000': 0.0125, '47000/1': 0.0025, '47000/0': 0.01, '100000': 0.0025, '100000/1': 0.0025, '100000/0': 0.0, '38000': 0.0075, '38000/1': 0.005, '38000/0': 0.0025, '69000': 0.0025, '69000/1': 0.0, '69000/0': 0.0025, '148000': 0.0025, '148000/1': 0.0025, '148000/0': 0.0, '115000': 0.0025, '115000/1': 0.0, '115000/0': 0.0025, '34000': 0.01, '34000/1': 0.0075, '34000/0': 0.0025, '60000': 0.0175, '60000/1': 0.005, '60000/0': 0.0125, '70000': 0.01, '70000/1': 0.005, '70000/0': 0.005, '36000': 0.0075, '36000/1': 0.005, '36000/0': 0.0025, '39000': 0.01, '39000/1': 0.005, '39000/0': 0.005, '134000': 0.01, '134000/1': 0.0075, '134000/0': 0.0025, '101000': 0.0025, '101000/1': 0.0025, '101000/0': 0.0, '130000': 0.005, '130000/1': 0.005, '130000/0': 0.0, '114000': 0.0025, '114000/1': 0.0, '114000/0': 0.0025, '142000': 0.0025, '142000/1': 0.0025, '142000/0': 0.0, '78000': 0.005, '78000/1': 0.0025, '78000/0': 0.0025, '143000': 0.005, '143000/1': 0.005, '143000/0': 0.0, '91000': 0.0025, '91000/1': 0.0025, '91000/0': 0.0, '144000': 0.01, '144000/1': 0.01, '144000/0': 0.0, '102000': 0.0025, '102000/1': 0.0025, '102000/0': 0.0, '126000': 0.0025, '126000/1': 0.0025, '126000/0': 0.0, '133000': 0.005, '133000/1': 0.0025, '133000/0': 0.0025, '147000': 0.0025, '147000/1': 0.0025, '147000/0': 0.0, '104000': 0.01, '104000/1': 0.01, '104000/0': 0.0, '146000': 0.005, '146000/1': 0.005, '146000/0': 0.0, '122000': 0.005, '122000/1': 0.005, '122000/0': 0.0, '97000': 0.0025, '97000/1': 0.0025, '97000/0': 0.0, '95000': 0.0025, '95000/1': 0.0025, '95000/0': 0.0, '131000': 0.005, '131000/1': 0.005, '131000/0': 0.0, '77000': 0.0075, '77000/1': 0.0, '77000/0': 0.0075, '125000': 0.005, '125000/1': 0.005, '125000/0': 0.0, '106000': 0.0025, '106000/1': 0.0025, '106000/0': 0.0, '141000': 0.005, '141000/1': 0.0025, '141000/0': 0.0025, '93000': 0.0025, '93000/1': 0.0025, '93000/0': 0.0, '138000': 0.005, '138000/1': 0.005, '138000/0': 0.0, '119000': 0.0025, '119000/1': 0.0025, '119000/0': 0.0, '105000': 0.0025, '105000/1': 0.0025, '105000/0': 0.0, '99000': 0.0025, '99000/1': 0.0025, '99000/0': 0.0, '129000': 0.0025, '129000/1': 0.0025, '129000/0': 0.0, '46000': 0.0025, '46000/1': 0.0025, '46000/0': 0.0, '64000': 0.0025, '64000/1': 0.0, '64000/0': 0.0025, '139000': 0.0025, '139000/1': 0.0025, '139000/0': 0.0}, 'Purchased': {'0': 0.6425, '0/1': 0.0, '0/0': 0.6425, '1': 0.3575, '1/1': 0.3575, '1/0': 0.0}}\n",
            "=====================================================================================\n"
          ]
        }
      ]
    },
    {
      "cell_type": "code",
      "source": [],
      "metadata": {
        "id": "eQrF08oUiH--"
      },
      "execution_count": null,
      "outputs": []
    }
  ]
}